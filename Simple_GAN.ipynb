{
  "nbformat": 4,
  "nbformat_minor": 0,
  "metadata": {
    "colab": {
      "provenance": [],
      "gpuType": "T4",
      "authorship_tag": "ABX9TyOFSnSwxfLPzh3PCr2o/XmS",
      "include_colab_link": true
    },
    "kernelspec": {
      "name": "python3",
      "display_name": "Python 3"
    },
    "language_info": {
      "name": "python"
    },
    "accelerator": "GPU"
  },
  "cells": [
    {
      "cell_type": "markdown",
      "metadata": {
        "id": "view-in-github",
        "colab_type": "text"
      },
      "source": [
        "<a href=\"https://colab.research.google.com/github/qasim-mansoor/Neural-Networks/blob/main/Simple_GAN.ipynb\" target=\"_parent\"><img src=\"https://colab.research.google.com/assets/colab-badge.svg\" alt=\"Open In Colab\"/></a>"
      ]
    },
    {
      "cell_type": "code",
      "execution_count": 1,
      "metadata": {
        "id": "LasZJ8Cxr7Gx"
      },
      "outputs": [],
      "source": [
        "# Load the TensorBoard notebook extension\n",
        "%load_ext tensorboard"
      ]
    },
    {
      "cell_type": "code",
      "source": [
        "import torch\n",
        "import torch.nn as nn\n",
        "import torch.optim as optim\n",
        "import torchvision\n",
        "import torchvision.datasets as datasets\n",
        "from torch.utils.data import DataLoader\n",
        "import torchvision.transforms as transforms\n",
        "from torch.utils.tensorboard import SummaryWriter"
      ],
      "metadata": {
        "id": "6hq0OaYlr8po"
      },
      "execution_count": 1,
      "outputs": []
    },
    {
      "cell_type": "code",
      "source": [
        "class Discriminator(nn.Module):\n",
        "  def __init__(self, img_dim):\n",
        "    super().__init__()\n",
        "    self.disc = nn.Sequential(\n",
        "        nn.Linear(img_dim, 128),\n",
        "        nn.LeakyReLU(0.1),\n",
        "        nn.Linear(128,1),\n",
        "        nn.Sigmoid(),\n",
        "    )\n",
        "\n",
        "  def forward(self, x):\n",
        "    return self.disc(x)"
      ],
      "metadata": {
        "id": "-DT4GC3VsRfJ"
      },
      "execution_count": 2,
      "outputs": []
    },
    {
      "cell_type": "code",
      "source": [
        "class Generator(nn.Module):\n",
        "  def __init__(self, z_dim, img_dim):\n",
        "    super().__init__()\n",
        "    self.gen = nn.Sequential(\n",
        "        nn.Linear(z_dim, 256),\n",
        "        nn.LeakyReLU(0.1),\n",
        "        nn.Linear(256, img_dim),\n",
        "        nn.Tanh(),\n",
        "    )\n",
        "\n",
        "  def forward(self, x):\n",
        "    return self.gen(x)"
      ],
      "metadata": {
        "id": "Q3xvFqX6sjoM"
      },
      "execution_count": 3,
      "outputs": []
    },
    {
      "cell_type": "code",
      "source": [
        "# Hyperparameters etc.\n",
        "device = \"cuda\" if torch.cuda.is_available() else \"cpu\"\n",
        "lr = 3e-4\n",
        "z_dim = 64\n",
        "image_dim = 28 * 28 * 1  # 784\n",
        "batch_size = 32\n",
        "num_epochs = 50\n",
        "\n",
        "disc = Discriminator(image_dim).to(device)\n",
        "gen = Generator(z_dim, image_dim).to(device)\n",
        "fixed_noise = torch.randn((batch_size, z_dim)).to(device)\n",
        "transformation = transforms.Compose(\n",
        "    [\n",
        "        transforms.ToTensor(),\n",
        "        transforms.Normalize((0.5,), (0.5,)),\n",
        "    ]\n",
        ")\n",
        "\n",
        "dataset = datasets.MNIST(root=\"dataset/\", transform=transformation, download=True)\n",
        "loader = DataLoader(dataset, batch_size=batch_size, shuffle=True)\n",
        "opt_disc = optim.Adam(disc.parameters(), lr=lr)\n",
        "opt_gen = optim.Adam(gen.parameters(), lr=lr)\n",
        "criterion = nn.BCELoss()\n",
        "writer_fake = SummaryWriter(f\"logs/fake\")\n",
        "writer_real = SummaryWriter(f\"logs/real\")\n",
        "step = 0\n",
        "\n",
        "for epoch in range(num_epochs):\n",
        "    for batch_idx, (real, _) in enumerate(loader):\n",
        "        real = real.view(-1, 784).to(device)\n",
        "        batch_size = real.shape[0]\n",
        "\n",
        "        ### Train Discriminator: max log(D(x)) + log(1 - D(G(z)))\n",
        "        noise = torch.randn(batch_size, z_dim).to(device)\n",
        "        fake = gen(noise)\n",
        "        disc_real = disc(real).view(-1)\n",
        "        lossD_real = criterion(disc_real, torch.ones_like(disc_real))\n",
        "        disc_fake = disc(fake).view(-1)\n",
        "        lossD_fake = criterion(disc_fake, torch.zeros_like(disc_fake))\n",
        "        lossD = (lossD_real + lossD_fake) / 2\n",
        "        disc.zero_grad()\n",
        "        lossD.backward(retain_graph=True)\n",
        "        opt_disc.step()\n",
        "\n",
        "        ### Train Generator: min log(1 - D(G(z))) <-> max log(D(G(z))\n",
        "        # where the second option of maximizing doesn't suffer from\n",
        "        # saturating gradients\n",
        "        output = disc(fake).view(-1)\n",
        "        lossG = criterion(output, torch.ones_like(output))\n",
        "        gen.zero_grad()\n",
        "        lossG.backward()\n",
        "        opt_gen.step()\n",
        "\n",
        "        if batch_idx == 0:\n",
        "            print(\n",
        "                f\"Epoch [{epoch}/{num_epochs}] Batch {batch_idx}/{len(loader)} \\\n",
        "                      Loss D: {lossD:.4f}, loss G: {lossG:.4f}\"\n",
        "            )\n",
        "\n",
        "            with torch.no_grad():\n",
        "                fake = gen(fixed_noise).reshape(-1, 1, 28, 28)\n",
        "                data = real.reshape(-1, 1, 28, 28)\n",
        "                img_grid_fake = torchvision.utils.make_grid(fake, normalize=True)\n",
        "                img_grid_real = torchvision.utils.make_grid(data, normalize=True)\n",
        "\n",
        "                writer_fake.add_image(\n",
        "                    \"Mnist Fake Images\", img_grid_fake, global_step=step\n",
        "                )\n",
        "                writer_real.add_image(\n",
        "                    \"Mnist Real Images\", img_grid_real, global_step=step\n",
        "                )\n",
        "                step += 1"
      ],
      "metadata": {
        "colab": {
          "base_uri": "https://localhost:8080/"
        },
        "id": "_QrbuvsctQ5b",
        "outputId": "73e4be4b-dab8-4a02-a250-1ab327cd596e"
      },
      "execution_count": 4,
      "outputs": [
        {
          "output_type": "stream",
          "name": "stdout",
          "text": [
            "Downloading http://yann.lecun.com/exdb/mnist/train-images-idx3-ubyte.gz\n",
            "Downloading http://yann.lecun.com/exdb/mnist/train-images-idx3-ubyte.gz to dataset/MNIST/raw/train-images-idx3-ubyte.gz\n"
          ]
        },
        {
          "output_type": "stream",
          "name": "stderr",
          "text": [
            "100%|██████████| 9912422/9912422 [00:00<00:00, 169815304.74it/s]\n"
          ]
        },
        {
          "output_type": "stream",
          "name": "stdout",
          "text": [
            "Extracting dataset/MNIST/raw/train-images-idx3-ubyte.gz to dataset/MNIST/raw\n",
            "\n",
            "Downloading http://yann.lecun.com/exdb/mnist/train-labels-idx1-ubyte.gz\n",
            "Downloading http://yann.lecun.com/exdb/mnist/train-labels-idx1-ubyte.gz to dataset/MNIST/raw/train-labels-idx1-ubyte.gz\n"
          ]
        },
        {
          "output_type": "stream",
          "name": "stderr",
          "text": [
            "100%|██████████| 28881/28881 [00:00<00:00, 28630511.42it/s]"
          ]
        },
        {
          "output_type": "stream",
          "name": "stdout",
          "text": [
            "Extracting dataset/MNIST/raw/train-labels-idx1-ubyte.gz to dataset/MNIST/raw\n",
            "\n",
            "Downloading http://yann.lecun.com/exdb/mnist/t10k-images-idx3-ubyte.gz\n",
            "Downloading http://yann.lecun.com/exdb/mnist/t10k-images-idx3-ubyte.gz to dataset/MNIST/raw/t10k-images-idx3-ubyte.gz\n"
          ]
        },
        {
          "output_type": "stream",
          "name": "stderr",
          "text": [
            "\n",
            "100%|██████████| 1648877/1648877 [00:00<00:00, 25092306.73it/s]\n"
          ]
        },
        {
          "output_type": "stream",
          "name": "stdout",
          "text": [
            "Extracting dataset/MNIST/raw/t10k-images-idx3-ubyte.gz to dataset/MNIST/raw\n",
            "\n",
            "Downloading http://yann.lecun.com/exdb/mnist/t10k-labels-idx1-ubyte.gz\n",
            "Downloading http://yann.lecun.com/exdb/mnist/t10k-labels-idx1-ubyte.gz to dataset/MNIST/raw/t10k-labels-idx1-ubyte.gz\n"
          ]
        },
        {
          "output_type": "stream",
          "name": "stderr",
          "text": [
            "100%|██████████| 4542/4542 [00:00<00:00, 2199830.11it/s]\n"
          ]
        },
        {
          "output_type": "stream",
          "name": "stdout",
          "text": [
            "Extracting dataset/MNIST/raw/t10k-labels-idx1-ubyte.gz to dataset/MNIST/raw\n",
            "\n",
            "Epoch [0/50] Batch 0/1875                       Loss D: 0.7172, loss G: 0.6792\n",
            "Epoch [1/50] Batch 0/1875                       Loss D: 0.5295, loss G: 1.0132\n",
            "Epoch [2/50] Batch 0/1875                       Loss D: 0.6474, loss G: 0.9680\n",
            "Epoch [3/50] Batch 0/1875                       Loss D: 0.5421, loss G: 0.9907\n",
            "Epoch [4/50] Batch 0/1875                       Loss D: 0.2909, loss G: 1.5513\n",
            "Epoch [5/50] Batch 0/1875                       Loss D: 0.5150, loss G: 1.0895\n",
            "Epoch [6/50] Batch 0/1875                       Loss D: 0.6797, loss G: 0.8550\n",
            "Epoch [7/50] Batch 0/1875                       Loss D: 0.6091, loss G: 1.1558\n",
            "Epoch [8/50] Batch 0/1875                       Loss D: 0.6533, loss G: 1.0302\n",
            "Epoch [9/50] Batch 0/1875                       Loss D: 0.5965, loss G: 1.0848\n",
            "Epoch [10/50] Batch 0/1875                       Loss D: 0.5231, loss G: 1.2285\n",
            "Epoch [11/50] Batch 0/1875                       Loss D: 0.3630, loss G: 1.4806\n",
            "Epoch [12/50] Batch 0/1875                       Loss D: 0.7309, loss G: 0.6378\n",
            "Epoch [13/50] Batch 0/1875                       Loss D: 0.6449, loss G: 0.9944\n",
            "Epoch [14/50] Batch 0/1875                       Loss D: 0.5407, loss G: 1.1881\n",
            "Epoch [15/50] Batch 0/1875                       Loss D: 0.5546, loss G: 0.8851\n",
            "Epoch [16/50] Batch 0/1875                       Loss D: 0.5008, loss G: 1.0836\n",
            "Epoch [17/50] Batch 0/1875                       Loss D: 0.4312, loss G: 1.3132\n",
            "Epoch [18/50] Batch 0/1875                       Loss D: 0.6110, loss G: 1.1706\n",
            "Epoch [19/50] Batch 0/1875                       Loss D: 0.6984, loss G: 1.1274\n",
            "Epoch [20/50] Batch 0/1875                       Loss D: 0.6374, loss G: 1.2730\n",
            "Epoch [21/50] Batch 0/1875                       Loss D: 0.5623, loss G: 0.9750\n",
            "Epoch [22/50] Batch 0/1875                       Loss D: 0.6582, loss G: 1.0367\n",
            "Epoch [23/50] Batch 0/1875                       Loss D: 0.6262, loss G: 0.9136\n",
            "Epoch [24/50] Batch 0/1875                       Loss D: 0.7520, loss G: 1.0764\n",
            "Epoch [25/50] Batch 0/1875                       Loss D: 0.5334, loss G: 1.4250\n",
            "Epoch [26/50] Batch 0/1875                       Loss D: 0.6228, loss G: 1.1675\n",
            "Epoch [27/50] Batch 0/1875                       Loss D: 0.5802, loss G: 0.9236\n",
            "Epoch [28/50] Batch 0/1875                       Loss D: 0.6124, loss G: 0.9595\n",
            "Epoch [29/50] Batch 0/1875                       Loss D: 0.5952, loss G: 1.1003\n",
            "Epoch [30/50] Batch 0/1875                       Loss D: 0.5139, loss G: 1.6156\n",
            "Epoch [31/50] Batch 0/1875                       Loss D: 0.5047, loss G: 1.1466\n",
            "Epoch [32/50] Batch 0/1875                       Loss D: 0.5636, loss G: 1.0558\n",
            "Epoch [33/50] Batch 0/1875                       Loss D: 0.8145, loss G: 0.7836\n",
            "Epoch [34/50] Batch 0/1875                       Loss D: 0.6796, loss G: 0.9409\n",
            "Epoch [35/50] Batch 0/1875                       Loss D: 0.6788, loss G: 0.9445\n",
            "Epoch [36/50] Batch 0/1875                       Loss D: 0.6515, loss G: 0.8122\n",
            "Epoch [37/50] Batch 0/1875                       Loss D: 0.7678, loss G: 0.9219\n",
            "Epoch [38/50] Batch 0/1875                       Loss D: 0.6984, loss G: 0.8505\n",
            "Epoch [39/50] Batch 0/1875                       Loss D: 0.5817, loss G: 1.0661\n",
            "Epoch [40/50] Batch 0/1875                       Loss D: 0.7038, loss G: 0.9400\n",
            "Epoch [41/50] Batch 0/1875                       Loss D: 0.7505, loss G: 1.0334\n",
            "Epoch [42/50] Batch 0/1875                       Loss D: 0.6477, loss G: 0.8463\n",
            "Epoch [43/50] Batch 0/1875                       Loss D: 0.5990, loss G: 1.1631\n",
            "Epoch [44/50] Batch 0/1875                       Loss D: 0.4719, loss G: 1.1132\n",
            "Epoch [45/50] Batch 0/1875                       Loss D: 0.6242, loss G: 1.0835\n",
            "Epoch [46/50] Batch 0/1875                       Loss D: 0.5382, loss G: 1.0614\n",
            "Epoch [47/50] Batch 0/1875                       Loss D: 0.6611, loss G: 1.0141\n",
            "Epoch [48/50] Batch 0/1875                       Loss D: 0.6731, loss G: 0.9732\n",
            "Epoch [49/50] Batch 0/1875                       Loss D: 0.6144, loss G: 0.8510\n"
          ]
        }
      ]
    },
    {
      "cell_type": "code",
      "source": [],
      "metadata": {
        "id": "hdAQuN9cxCKk"
      },
      "execution_count": null,
      "outputs": []
    }
  ]
}